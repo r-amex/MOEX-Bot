{
 "cells": [
  {
   "cell_type": "markdown",
   "id": "c2f68e18",
   "metadata": {},
   "source": [
    "### Скрипт объединения файлов открытого интереса с Московской биржи.\n",
    "\n",
    "данные с 9:00 14 июня 2022 по 18:50 15 сентября 2022\n",
    "файлы переизбыточны ( каждый файл за 3+ предыдущих дня)"
   ]
  },
  {
   "cell_type": "code",
   "execution_count": 1,
   "id": "9218a002",
   "metadata": {},
   "outputs": [],
   "source": [
    "import glob\n",
    "import pandas as pd"
   ]
  },
  {
   "cell_type": "code",
   "execution_count": 2,
   "id": "f165a069",
   "metadata": {},
   "outputs": [],
   "source": [
    "files = glob.glob('d:/Work/Data/*.csv')"
   ]
  },
  {
   "cell_type": "code",
   "execution_count": 3,
   "id": "87611d9c",
   "metadata": {
    "scrolled": true
   },
   "outputs": [
    {
     "data": {
      "text/plain": [
       "['d:/Work/Data\\\\RI_01_07_2022.csv',\n",
       " 'd:/Work/Data\\\\RI_01_08_2022.csv',\n",
       " 'd:/Work/Data\\\\RI_01_09_2022.csv',\n",
       " 'd:/Work/Data\\\\RI_02_07_2022.csv',\n",
       " 'd:/Work/Data\\\\RI_02_08_2022.csv',\n",
       " 'd:/Work/Data\\\\RI_02_09_2022.csv',\n",
       " 'd:/Work/Data\\\\RI_03_07_2022.csv',\n",
       " 'd:/Work/Data\\\\RI_03_08_2022.csv',\n",
       " 'd:/Work/Data\\\\RI_03_09_2022.csv',\n",
       " 'd:/Work/Data\\\\RI_04_07_2022.csv',\n",
       " 'd:/Work/Data\\\\RI_04_08_2022.csv',\n",
       " 'd:/Work/Data\\\\RI_04_09_2022.csv',\n",
       " 'd:/Work/Data\\\\RI_05_07_2022.csv',\n",
       " 'd:/Work/Data\\\\RI_05_08_2022.csv',\n",
       " 'd:/Work/Data\\\\RI_05_09_2022.csv',\n",
       " 'd:/Work/Data\\\\RI_06_07_2022.csv',\n",
       " 'd:/Work/Data\\\\RI_06_08_2022.csv',\n",
       " 'd:/Work/Data\\\\RI_06_09_2022.csv',\n",
       " 'd:/Work/Data\\\\RI_07_07_2022.csv',\n",
       " 'd:/Work/Data\\\\RI_07_08_2022.csv',\n",
       " 'd:/Work/Data\\\\RI_07_09_2022.csv',\n",
       " 'd:/Work/Data\\\\RI_08_07_2022.csv',\n",
       " 'd:/Work/Data\\\\RI_08_08_2022.csv',\n",
       " 'd:/Work/Data\\\\RI_08_09_2022.csv',\n",
       " 'd:/Work/Data\\\\RI_09_07_2022.csv',\n",
       " 'd:/Work/Data\\\\RI_09_08_2022.csv',\n",
       " 'd:/Work/Data\\\\RI_09_09_2022.csv',\n",
       " 'd:/Work/Data\\\\RI_10_07_2022.csv',\n",
       " 'd:/Work/Data\\\\RI_10_08_2022.csv',\n",
       " 'd:/Work/Data\\\\RI_10_09_2022.csv',\n",
       " 'd:/Work/Data\\\\RI_11_07_2022.csv',\n",
       " 'd:/Work/Data\\\\RI_11_08_2022.csv',\n",
       " 'd:/Work/Data\\\\RI_11_09_2022.csv',\n",
       " 'd:/Work/Data\\\\RI_12_07_2022.csv',\n",
       " 'd:/Work/Data\\\\RI_12_08_2022.csv',\n",
       " 'd:/Work/Data\\\\RI_12_09_2022.csv',\n",
       " 'd:/Work/Data\\\\RI_13_07_2022.csv',\n",
       " 'd:/Work/Data\\\\RI_13_08_2022.csv',\n",
       " 'd:/Work/Data\\\\RI_13_09_2022.csv',\n",
       " 'd:/Work/Data\\\\RI_14_07_2022.csv',\n",
       " 'd:/Work/Data\\\\RI_14_08_2022.csv',\n",
       " 'd:/Work/Data\\\\RI_14_09_2022.csv',\n",
       " 'd:/Work/Data\\\\RI_15_07_2022.csv',\n",
       " 'd:/Work/Data\\\\RI_15_08_2022.csv',\n",
       " 'd:/Work/Data\\\\RI_15_09_2022_18_45.csv',\n",
       " 'd:/Work/Data\\\\RI_16_07_2022.csv',\n",
       " 'd:/Work/Data\\\\RI_16_08_2022.csv',\n",
       " 'd:/Work/Data\\\\RI_17_07_2022.csv',\n",
       " 'd:/Work/Data\\\\RI_17_08_2022.csv',\n",
       " 'd:/Work/Data\\\\RI_18_07_2022.csv',\n",
       " 'd:/Work/Data\\\\RI_18_08_2022.csv',\n",
       " 'd:/Work/Data\\\\RI_19_06_2022.csv',\n",
       " 'd:/Work/Data\\\\RI_19_07_2022.csv',\n",
       " 'd:/Work/Data\\\\RI_19_08_2022.csv',\n",
       " 'd:/Work/Data\\\\RI_20_06_2022.csv',\n",
       " 'd:/Work/Data\\\\RI_20_07_2022.csv',\n",
       " 'd:/Work/Data\\\\RI_20_08_2022.csv',\n",
       " 'd:/Work/Data\\\\RI_21_06_2022.csv',\n",
       " 'd:/Work/Data\\\\RI_21_07_2022.csv',\n",
       " 'd:/Work/Data\\\\RI_21_08_2022.csv',\n",
       " 'd:/Work/Data\\\\RI_22_06_2022.csv',\n",
       " 'd:/Work/Data\\\\RI_22_07_2022.csv',\n",
       " 'd:/Work/Data\\\\RI_22_08_2022.csv',\n",
       " 'd:/Work/Data\\\\RI_23_06_2022.csv',\n",
       " 'd:/Work/Data\\\\RI_23_07_2022.csv',\n",
       " 'd:/Work/Data\\\\RI_23_08_2022.csv',\n",
       " 'd:/Work/Data\\\\RI_24_06_2022.csv',\n",
       " 'd:/Work/Data\\\\RI_24_07_2022.csv',\n",
       " 'd:/Work/Data\\\\RI_24_08_2022.csv',\n",
       " 'd:/Work/Data\\\\RI_25_06_2022.csv',\n",
       " 'd:/Work/Data\\\\RI_25_07_2022.csv',\n",
       " 'd:/Work/Data\\\\RI_25_08_2022.csv',\n",
       " 'd:/Work/Data\\\\RI_26_06_2022.csv',\n",
       " 'd:/Work/Data\\\\RI_26_07_2022.csv',\n",
       " 'd:/Work/Data\\\\RI_26_08_2022.csv',\n",
       " 'd:/Work/Data\\\\RI_27_06_2022.csv',\n",
       " 'd:/Work/Data\\\\RI_27_07_2022.csv',\n",
       " 'd:/Work/Data\\\\RI_27_08_2022.csv',\n",
       " 'd:/Work/Data\\\\RI_28_06_2022.csv',\n",
       " 'd:/Work/Data\\\\RI_28_07_2022.csv',\n",
       " 'd:/Work/Data\\\\RI_28_08_2022.csv',\n",
       " 'd:/Work/Data\\\\RI_29_06_2022.csv',\n",
       " 'd:/Work/Data\\\\RI_29_07_2022.csv',\n",
       " 'd:/Work/Data\\\\RI_29_08_2022.csv',\n",
       " 'd:/Work/Data\\\\RI_30_06_2022.csv',\n",
       " 'd:/Work/Data\\\\RI_30_07_2022.csv',\n",
       " 'd:/Work/Data\\\\RI_30_08_2022.csv',\n",
       " 'd:/Work/Data\\\\RI_31_07_2022.csv',\n",
       " 'd:/Work/Data\\\\RI_31_08_2022.csv']"
      ]
     },
     "execution_count": 3,
     "metadata": {},
     "output_type": "execute_result"
    }
   ],
   "source": [
    "# Список файлов\n",
    "files"
   ]
  },
  {
   "cell_type": "code",
   "execution_count": 4,
   "id": "54196e5b",
   "metadata": {},
   "outputs": [],
   "source": [
    "# Объединение\n",
    "conc = pd.DataFrame()\n",
    "\n",
    "for file in files:\n",
    "    # читаем с заголовка и не читаем последние 6 строк\n",
    "    data = pd.read_csv(file, sep = ';', header = 1, skipfooter=6, engine='python')\n",
    "    conc = pd.concat([conc, data])"
   ]
  },
  {
   "cell_type": "code",
   "execution_count": 5,
   "id": "699343a3",
   "metadata": {},
   "outputs": [],
   "source": [
    "# Удаляем дубликаты\n",
    "clear = conc.drop_duplicates()"
   ]
  },
  {
   "cell_type": "code",
   "execution_count": 6,
   "id": "5d0cfb19",
   "metadata": {},
   "outputs": [],
   "source": [
    "# Сохраняем в файл\n",
    "clear.to_csv('D:/Work/Data/OI_RIU2_conc.csv',\n",
    "            index= False,\n",
    "            sep= ';')"
   ]
  },
  {
   "cell_type": "code",
   "execution_count": null,
   "id": "852bfc77",
   "metadata": {},
   "outputs": [],
   "source": []
  }
 ],
 "metadata": {
  "kernelspec": {
   "display_name": "Python 3 (ipykernel)",
   "language": "python",
   "name": "python3"
  },
  "language_info": {
   "codemirror_mode": {
    "name": "ipython",
    "version": 3
   },
   "file_extension": ".py",
   "mimetype": "text/x-python",
   "name": "python",
   "nbconvert_exporter": "python",
   "pygments_lexer": "ipython3",
   "version": "3.9.13"
  }
 },
 "nbformat": 4,
 "nbformat_minor": 5
}
