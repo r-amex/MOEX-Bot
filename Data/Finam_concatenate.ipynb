{
 "cells": [
  {
   "cell_type": "markdown",
   "id": "b0735d11",
   "metadata": {},
   "source": [
    "### Скрипт объединения недельных тиковых файлов в один\n",
    "данные скачаны с Финама ( один файл - одна неделя) по ссылке\n",
    "https://www.finam.ru/profile/mosbirzha-fyuchersy/rts-9-22-riu2_riu2/export/?market=14&em=2053077&token=&code=RIU2&apply=0&df=1&mf=5&yf=2022&from=01.06.2022&dt=9&mt=7&yt=2022&to=09.08.2022&p=1&f=RIU2_220601_220809&e=.csv&cn=RIU2&dtf=1&tmf=1&MSOR=1&mstime=on&mstimever=1&sep=3&sep2=1&datf=6&at=1\n",
    "\n",
    "данные с 9:00 14 июня 2022 по 18:50 15 сентября 2022"
   ]
  },
  {
   "cell_type": "code",
   "execution_count": 1,
   "id": "9218a002",
   "metadata": {},
   "outputs": [],
   "source": [
    "#!pip install fastparquet\n",
    "import glob\n",
    "import pandas as pd"
   ]
  },
  {
   "cell_type": "code",
   "execution_count": 2,
   "id": "32ff29b3",
   "metadata": {},
   "outputs": [],
   "source": [
    "# Объединяем все файлы в один датафрейм\n",
    "df = pd.concat(map(pd.read_csv, glob.glob('D:/Work/Data/*.csv')))"
   ]
  },
  {
   "cell_type": "code",
   "execution_count": 3,
   "id": "e62fe83a",
   "metadata": {},
   "outputs": [
    {
     "data": {
      "text/html": [
       "<div>\n",
       "<style scoped>\n",
       "    .dataframe tbody tr th:only-of-type {\n",
       "        vertical-align: middle;\n",
       "    }\n",
       "\n",
       "    .dataframe tbody tr th {\n",
       "        vertical-align: top;\n",
       "    }\n",
       "\n",
       "    .dataframe thead th {\n",
       "        text-align: right;\n",
       "    }\n",
       "</style>\n",
       "<table border=\"1\" class=\"dataframe\">\n",
       "  <thead>\n",
       "    <tr style=\"text-align: right;\">\n",
       "      <th></th>\n",
       "      <th>&lt;DATE&gt;;&lt;TIME&gt;;&lt;LAST&gt;;&lt;VOL&gt;;&lt;ID&gt;;&lt;OPER&gt;</th>\n",
       "    </tr>\n",
       "  </thead>\n",
       "  <tbody>\n",
       "    <tr>\n",
       "      <th>230243</th>\n",
       "      <td>20220915;184914;129240.000000000;2;19250358456...</td>\n",
       "    </tr>\n",
       "    <tr>\n",
       "      <th>230244</th>\n",
       "      <td>20220915;184921;129240.000000000;1;19250358456...</td>\n",
       "    </tr>\n",
       "    <tr>\n",
       "      <th>230245</th>\n",
       "      <td>20220915;184934;129240.000000000;1;19250358456...</td>\n",
       "    </tr>\n",
       "    <tr>\n",
       "      <th>230246</th>\n",
       "      <td>20220915;184939;129240.000000000;7;19250358456...</td>\n",
       "    </tr>\n",
       "    <tr>\n",
       "      <th>230247</th>\n",
       "      <td>20220915;184952;129240.000000000;3;19250358456...</td>\n",
       "    </tr>\n",
       "  </tbody>\n",
       "</table>\n",
       "</div>"
      ],
      "text/plain": [
       "                   <DATE>;<TIME>;<LAST>;<VOL>;<ID>;<OPER>\n",
       "230243  20220915;184914;129240.000000000;2;19250358456...\n",
       "230244  20220915;184921;129240.000000000;1;19250358456...\n",
       "230245  20220915;184934;129240.000000000;1;19250358456...\n",
       "230246  20220915;184939;129240.000000000;7;19250358456...\n",
       "230247  20220915;184952;129240.000000000;3;19250358456..."
      ]
     },
     "execution_count": 3,
     "metadata": {},
     "output_type": "execute_result"
    }
   ],
   "source": [
    "df.tail()"
   ]
  },
  {
   "cell_type": "code",
   "execution_count": 4,
   "id": "0eee4391",
   "metadata": {},
   "outputs": [],
   "source": [
    "# Удаляем дубликаты\n",
    "df = df.drop_duplicates()"
   ]
  },
  {
   "cell_type": "code",
   "execution_count": 5,
   "id": "3c5cc893",
   "metadata": {},
   "outputs": [
    {
     "data": {
      "text/html": [
       "<div>\n",
       "<style scoped>\n",
       "    .dataframe tbody tr th:only-of-type {\n",
       "        vertical-align: middle;\n",
       "    }\n",
       "\n",
       "    .dataframe tbody tr th {\n",
       "        vertical-align: top;\n",
       "    }\n",
       "\n",
       "    .dataframe thead th {\n",
       "        text-align: right;\n",
       "    }\n",
       "</style>\n",
       "<table border=\"1\" class=\"dataframe\">\n",
       "  <thead>\n",
       "    <tr style=\"text-align: right;\">\n",
       "      <th></th>\n",
       "      <th>&lt;DATE&gt;;&lt;TIME&gt;;&lt;LAST&gt;;&lt;VOL&gt;;&lt;ID&gt;;&lt;OPER&gt;</th>\n",
       "    </tr>\n",
       "  </thead>\n",
       "  <tbody>\n",
       "    <tr>\n",
       "      <th>230243</th>\n",
       "      <td>20220915;184914;129240.000000000;2;19250358456...</td>\n",
       "    </tr>\n",
       "    <tr>\n",
       "      <th>230244</th>\n",
       "      <td>20220915;184921;129240.000000000;1;19250358456...</td>\n",
       "    </tr>\n",
       "    <tr>\n",
       "      <th>230245</th>\n",
       "      <td>20220915;184934;129240.000000000;1;19250358456...</td>\n",
       "    </tr>\n",
       "    <tr>\n",
       "      <th>230246</th>\n",
       "      <td>20220915;184939;129240.000000000;7;19250358456...</td>\n",
       "    </tr>\n",
       "    <tr>\n",
       "      <th>230247</th>\n",
       "      <td>20220915;184952;129240.000000000;3;19250358456...</td>\n",
       "    </tr>\n",
       "  </tbody>\n",
       "</table>\n",
       "</div>"
      ],
      "text/plain": [
       "                   <DATE>;<TIME>;<LAST>;<VOL>;<ID>;<OPER>\n",
       "230243  20220915;184914;129240.000000000;2;19250358456...\n",
       "230244  20220915;184921;129240.000000000;1;19250358456...\n",
       "230245  20220915;184934;129240.000000000;1;19250358456...\n",
       "230246  20220915;184939;129240.000000000;7;19250358456...\n",
       "230247  20220915;184952;129240.000000000;3;19250358456..."
      ]
     },
     "execution_count": 5,
     "metadata": {},
     "output_type": "execute_result"
    }
   ],
   "source": [
    "df.tail()"
   ]
  },
  {
   "cell_type": "code",
   "execution_count": 6,
   "id": "615cb3f9",
   "metadata": {},
   "outputs": [
    {
     "data": {
      "text/html": [
       "<div>\n",
       "<style scoped>\n",
       "    .dataframe tbody tr th:only-of-type {\n",
       "        vertical-align: middle;\n",
       "    }\n",
       "\n",
       "    .dataframe tbody tr th {\n",
       "        vertical-align: top;\n",
       "    }\n",
       "\n",
       "    .dataframe thead th {\n",
       "        text-align: right;\n",
       "    }\n",
       "</style>\n",
       "<table border=\"1\" class=\"dataframe\">\n",
       "  <thead>\n",
       "    <tr style=\"text-align: right;\">\n",
       "      <th></th>\n",
       "      <th>&lt;DATE&gt;;&lt;TIME&gt;;&lt;LAST&gt;;&lt;VOL&gt;;&lt;ID&gt;;&lt;OPER&gt;</th>\n",
       "    </tr>\n",
       "  </thead>\n",
       "  <tbody>\n",
       "    <tr>\n",
       "      <th>0</th>\n",
       "      <td>20220614;100002;116800.000000000;1;19250355535...</td>\n",
       "    </tr>\n",
       "    <tr>\n",
       "      <th>1</th>\n",
       "      <td>20220614;100002;116530.000000000;1;19250355535...</td>\n",
       "    </tr>\n",
       "    <tr>\n",
       "      <th>2</th>\n",
       "      <td>20220614;100003;116420.000000000;1;19250355535...</td>\n",
       "    </tr>\n",
       "    <tr>\n",
       "      <th>3</th>\n",
       "      <td>20220614;100008;117170.000000000;1;19250355535...</td>\n",
       "    </tr>\n",
       "    <tr>\n",
       "      <th>4</th>\n",
       "      <td>20220614;100008;117180.000000000;1;19250355535...</td>\n",
       "    </tr>\n",
       "  </tbody>\n",
       "</table>\n",
       "</div>"
      ],
      "text/plain": [
       "              <DATE>;<TIME>;<LAST>;<VOL>;<ID>;<OPER>\n",
       "0  20220614;100002;116800.000000000;1;19250355535...\n",
       "1  20220614;100002;116530.000000000;1;19250355535...\n",
       "2  20220614;100003;116420.000000000;1;19250355535...\n",
       "3  20220614;100008;117170.000000000;1;19250355535...\n",
       "4  20220614;100008;117180.000000000;1;19250355535..."
      ]
     },
     "execution_count": 6,
     "metadata": {},
     "output_type": "execute_result"
    }
   ],
   "source": [
    "df.head()"
   ]
  },
  {
   "cell_type": "code",
   "execution_count": 13,
   "id": "f8929849",
   "metadata": {},
   "outputs": [],
   "source": [
    "df.to_csv('D:/Work/Data/RIU2.csv', \n",
    "          index= False, \n",
    "          sep=';')"
   ]
  },
  {
   "cell_type": "code",
   "execution_count": 8,
   "id": "1dc5736a",
   "metadata": {},
   "outputs": [],
   "source": [
    "# занимает в 5 раз меньше места чем csv\n",
    "df.to_parquet('D:/Work/Data/RIU2.parquet')"
   ]
  }
 ],
 "metadata": {
  "kernelspec": {
   "display_name": "Python 3 (ipykernel)",
   "language": "python",
   "name": "python3"
  },
  "language_info": {
   "codemirror_mode": {
    "name": "ipython",
    "version": 3
   },
   "file_extension": ".py",
   "mimetype": "text/x-python",
   "name": "python",
   "nbconvert_exporter": "python",
   "pygments_lexer": "ipython3",
   "version": "3.9.13"
  }
 },
 "nbformat": 4,
 "nbformat_minor": 5
}
